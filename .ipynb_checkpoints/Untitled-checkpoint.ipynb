{
 "cells": [
  {
   "cell_type": "markdown",
   "id": "15b5d4de-1f28-40bc-9481-2b9e94b344c8",
   "metadata": {},
   "source": [
    "## Jupyter Notebook experiments"
   ]
  },
  {
   "cell_type": "code",
   "execution_count": null,
   "id": "6253a2be-66ab-4ade-bcce-242f56a53cfc",
   "metadata": {},
   "outputs": [],
   "source": []
  },
  {
   "cell_type": "code",
   "execution_count": null,
   "id": "53457e58-3275-430c-95d9-abac4d0a16a3",
   "metadata": {},
   "outputs": [],
   "source": []
  }
 ],
 "metadata": {
  "kernelspec": {
   "display_name": "Python 3 (ipykernel)",
   "language": "python",
   "name": "python3"
  },
  "language_info": {
   "codemirror_mode": {
    "name": "ipython",
    "version": 3
   },
   "file_extension": ".py",
   "mimetype": "text/x-python",
   "name": "python",
   "nbconvert_exporter": "python",
   "pygments_lexer": "ipython3",
   "version": "3.12.3"
  }
 },
 "nbformat": 4,
 "nbformat_minor": 5
}
