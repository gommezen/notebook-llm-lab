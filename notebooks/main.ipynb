{
 "cells": [
  {
   "cell_type": "markdown",
   "id": "0",
   "metadata": {},
   "source": [
    "# Building LLM prompts with local LLMs"
   ]
  },
  {
   "cell_type": "code",
   "execution_count": null,
   "id": "1",
   "metadata": {},
   "outputs": [],
   "source": [
    "#This notebook demonstrates how to construct LLM prompts and interact with \n",
    "#a locally-hosted or packaged language model via the ask_model wrapper in llm_client.py.\n",
    "#Basic prompt examples (summarization, simplification, idea extraction).\n",
    "#Saving model outputs to outputs/results for reuse across notebooks.\n",
    "#Quick post-processing with TextBlob and NLTK to extract sentiment, noun phrases, and simple keyword signals."
   ]
  },
  {
   "cell_type": "code",
   "execution_count": null,
   "id": "2",
   "metadata": {},
   "outputs": [],
   "source": [
    "#1.imports and parth setup"
   ]
  },
  {
   "cell_type": "code",
   "execution_count": null,
   "id": "3",
   "metadata": {},
   "outputs": [],
   "source": [
    "import sys, os\n",
    "\n",
    "#Download necessary NLTK corpora:\n",
    "import nltk\n",
    "nltk.download('brown')\n",
    "nltk.download('punkt')\n",
    "nltk.download('punkt_tab')  # <— this is the new one needed\n",
    "nltk.download('averaged_perceptron_tagger')\n",
    "nltk.download('wordnet')\n",
    "\n",
    "# Move one level up from the notebooks folder\n",
    "project_root = os.path.abspath(os.path.join(os.getcwd(), \"..\"))\n",
    "src_path = os.path.join(project_root, \"src\")\n",
    "\n",
    "# Add /src to the Python path if not already there\n",
    "if src_path not in sys.path:\n",
    "    sys.path.append(src_path)\n",
    "\n",
    "from notebook_llm_lab.llm_utils.llm_client import ask_model\n"
   ]
  },
  {
   "cell_type": "code",
   "execution_count": null,
   "id": "4",
   "metadata": {},
   "outputs": [],
   "source": [
    "#2.Ask model to generate output"
   ]
  },
  {
   "cell_type": "code",
   "execution_count": null,
   "id": "5",
   "metadata": {},
   "outputs": [],
   "source": [
    "# Basic usage\n",
    "answer = ask_model(\"Summarize what quantization does in LLMs.\")"
   ]
  },
  {
   "cell_type": "code",
   "execution_count": null,
   "id": "6",
   "metadata": {},
   "outputs": [],
   "source": [
    "#3. Save the result after answer is created"
   ]
  },
  {
   "cell_type": "code",
   "execution_count": null,
   "id": "7",
   "metadata": {},
   "outputs": [],
   "source": [
    "# Save model output for reuse by other notebooks or models\n",
    "os.makedirs(\"outputs/results\", exist_ok=True)\n",
    "\n",
    "with open(\"outputs/results/quantization_summary.txt\", \"w\", encoding=\"utf-8\") as f:\n",
    "    f.write(answer)\n"
   ]
  },
  {
   "cell_type": "code",
   "execution_count": null,
   "id": "8",
   "metadata": {},
   "outputs": [],
   "source": [
    "#ask_model(f\"Make this answer simpler and shorter: {answer}\")\n"
   ]
  },
  {
   "cell_type": "code",
   "execution_count": null,
   "id": "9",
   "metadata": {},
   "outputs": [],
   "source": [
    "ask_model(f\"What are the three main ideas in this text? {answer}\")\n"
   ]
  },
  {
   "cell_type": "code",
   "execution_count": null,
   "id": "10",
   "metadata": {},
   "outputs": [],
   "source": [
    "#4.-------------------------------------------\n",
    "# Sentiment & keyword analysis using TextBlob\n",
    "#---------------------------------------------\n",
    "# TextBlob provides simple NLP tools built on top of NLTK.\n",
    "# Here, we analyze the model's answer (a string) to see:\n",
    "#   1) The overall sentiment (polarity and subjectivity)\n",
    "#   2) The key noun phrases, which highlight important concepts\n",
    "\n",
    "from textblob import TextBlob\n",
    "\n",
    "# Create a TextBlob object from the model's output text\n",
    "blob = TextBlob(answer)\n",
    "\n",
    "# Sentiment gives two measures:\n",
    "#   polarity ∈ [-1, 1]   → negative to positive tone\n",
    "#   subjectivity ∈ [0, 1] → 0 = objective/factual, 1 = opinionated\n",
    "print(\"Sentiment:\", blob.sentiment)\n",
    "\n",
    "# noun_phrases extracts multi-word terms that act like \"keywords\"\n",
    "# (e.g. 'large language models', 'quantization', 'memory efficiency')\n",
    "# These show the main technical themes or entities discussed in the text.\n",
    "print(\"Nouns:\", blob.noun_phrases)\n"
   ]
  },
  {
   "cell_type": "code",
   "execution_count": null,
   "id": "11",
   "metadata": {},
   "outputs": [],
   "source": []
  }
 ],
 "metadata": {
  "kernelspec": {
   "display_name": "notebook-llm-lab",
   "language": "python",
   "name": "notebook-llm-lab"
  },
  "language_info": {
   "codemirror_mode": {
    "name": "ipython",
    "version": 3
   },
   "file_extension": ".py",
   "mimetype": "text/x-python",
   "name": "python",
   "nbconvert_exporter": "python",
   "pygments_lexer": "ipython3",
   "version": "3.12.10"
  }
 },
 "nbformat": 4,
 "nbformat_minor": 5
}
