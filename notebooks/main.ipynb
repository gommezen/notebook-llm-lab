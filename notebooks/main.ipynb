{
 "cells": [
  {
   "cell_type": "markdown",
   "id": "15b5d4de-1f28-40bc-9481-2b9e94b344c8",
   "metadata": {},
   "source": [
    "## Jupyter Notebook experiments"
   ]
  },
  {
   "cell_type": "markdown",
   "id": "9d448da5",
   "metadata": {},
   "source": [
    "L9: Building LLM prompts with variables"
   ]
  },
  {
   "cell_type": "markdown",
   "id": "bd818ac3",
   "metadata": {},
   "source": [
    "In the next cell, you will import the function print_llm_response that uses an LLM with an instruction that you provide as a string and displays the result"
   ]
  },
  {
   "cell_type": "code",
   "execution_count": null,
   "id": "53457e58-3275-430c-95d9-abac4d0a16a3",
   "metadata": {},
   "outputs": [],
   "source": [
    "from helper_functions import print_llm_response"
   ]
  },
  {
   "cell_type": "markdown",
   "id": "7733a73f",
   "metadata": {},
   "source": [
    "Basically, you can use that function as if you were asking a chatbot. You just need to provide your instructions as a string. For instance, you can ask \"What is the capital of France?\" using the following code:"
   ]
  },
  {
   "cell_type": "code",
   "execution_count": null,
   "id": "92e61c3a",
   "metadata": {},
   "outputs": [],
   "source": [
    "print_llm_response(\"What is the capital of France?\")"
   ]
  },
  {
   "cell_type": "code",
   "execution_count": null,
   "id": "798f6d2a",
   "metadata": {},
   "outputs": [],
   "source": []
  }
 ],
 "metadata": {
  "kernelspec": {
   "display_name": "Python 3 (ipykernel)",
   "language": "python",
   "name": "python3"
  },
  "language_info": {
   "codemirror_mode": {
    "name": "ipython",
    "version": 3
   },
   "file_extension": ".py",
   "mimetype": "text/x-python",
   "name": "python",
   "nbconvert_exporter": "python",
   "pygments_lexer": "ipython3",
   "version": "3.12.3"
  }
 },
 "nbformat": 4,
 "nbformat_minor": 5
}
