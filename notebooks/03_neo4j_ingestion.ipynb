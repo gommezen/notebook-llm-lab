{
 "cells": [
  {
   "cell_type": "code",
   "execution_count": 1,
   "id": "04cd4366",
   "metadata": {
    "vscode": {
     "languageId": "plaintext"
    }
   },
   "outputs": [],
   "source": [
    "# -----------------------------------------------------------------------------\n",
    "# 📘 Notebook: 03_neo4j_ingestion.ipynb\n",
    "#\n",
    "# Purpose:\n",
    "#   Import cleaned per-run summaries into a Neo4j graph for interactive\n",
    "#   exploration and quality auditing. Each run becomes a node linked to\n",
    "#   its date and metric values.\n",
    "#\n",
    "# Steps:\n",
    "#   1. Load cleaned dataset (run_summary_cleaned.parquet)\n",
    "#   2. Connect securely to Neo4j (via .env)\n",
    "#   3. Create constraints and indexes\n",
    "#   4. Import runs + date relationships\n",
    "#   5. Optionally attach metric nodes\n",
    "#   6. Validate import with diagnostic Cypher queries\n",
    "#\n",
    "# Input : ../data/strava/processed/run_summary_cleaned.parquet\n",
    "# Output: Populated Neo4j graph\n",
    "# Next  : Stage 4 – Feature Engineering & Clustering\n",
    "# -----------------------------------------------------------------------------\n"
   ]
  },
  {
   "cell_type": "code",
   "execution_count": 2,
   "id": "08f498c5-f76c-4875-a043-c114914a0f67",
   "metadata": {},
   "outputs": [],
   "source": [
    "# 📘 03_neo4j_ingestion.ipynb\n",
    "# Import cleaned running data into Neo4j for interactive exploration.\n",
    "\n",
    "from neo4j import GraphDatabase\n",
    "from dotenv import load_dotenv\n",
    "from pathlib import Path\n",
    "import pandas as pd\n",
    "import os\n",
    "from tqdm import tqdm\n",
    "\n",
    "load_dotenv()\n",
    "NEO4J_URI = os.getenv(\"NEO4J_URI\")\n",
    "NEO4J_USER = os.getenv(\"NEO4J_USER\")\n",
    "NEO4J_PASS = os.getenv(\"NEO4J_PASS\")\n",
    "\n",
    "driver = GraphDatabase.driver(NEO4J_URI, auth=(NEO4J_USER, NEO4J_PASS))\n"
   ]
  },
  {
   "cell_type": "code",
   "execution_count": 3,
   "id": "e608f8bf-208f-4a16-a2c3-15afebd42de4",
   "metadata": {},
   "outputs": [
    {
     "name": "stdout",
     "output_type": "stream",
     "text": [
      "Loaded 697 runs for graph import\n",
      "✅ Constraints ensured.\n"
     ]
    }
   ],
   "source": [
    "df = pd.read_parquet(\"../data/strava/processed/run_summary_cleaned.parquet\")\n",
    "print(f\"Loaded {len(df):,} runs for graph import\")\n",
    "\n",
    "with driver.session() as s:\n",
    "    s.run(\"CREATE CONSTRAINT IF NOT EXISTS FOR (r:Run) REQUIRE r.run_id IS UNIQUE\")\n",
    "    s.run(\"CREATE CONSTRAINT IF NOT EXISTS FOR (d:Date) REQUIRE d.date IS UNIQUE\")\n",
    "print(\"✅ Constraints ensured.\")\n"
   ]
  },
  {
   "cell_type": "code",
   "execution_count": 4,
   "id": "de7810dc-f619-453e-b0fc-e75e9803eeb9",
   "metadata": {},
   "outputs": [],
   "source": [
    "def import_run(tx, row):\n",
    "    tx.run(\"\"\"\n",
    "        MERGE (r:Run {run_id: $run_id})\n",
    "        SET r.total_distance_km = $distance_km,\n",
    "            r.avg_pace = $avg_pace,\n",
    "            r.avg_speed = $avg_speed,\n",
    "            r.avg_cadence = $avg_cadence,\n",
    "            r.avg_hr = $avg_hr,\n",
    "            r.elevation_gain = $elevation_gain,\n",
    "            r.duration_min = $duration_min,\n",
    "            r.missing_pct = $missing_pct\n",
    "        MERGE (d:Date {date: date($date)})\n",
    "        MERGE (r)-[:ON_DATE]->(d)\n",
    "        \"\"\",\n",
    "        run_id=row.run_id,\n",
    "        distance_km=row.total_distance_km,\n",
    "        avg_pace=row.avg_pace,\n",
    "        avg_speed=row.avg_speed,\n",
    "        avg_cadence=row.avg_cadence,\n",
    "        avg_hr=row.avg_hr,\n",
    "        elevation_gain=row.elevation_gain,\n",
    "        duration_min=row.duration_min,\n",
    "        missing_pct=row.missing_pct,\n",
    "        date=str(row.date)\n",
    "    )\n"
   ]
  },
  {
   "cell_type": "code",
   "execution_count": 5,
   "id": "03e13270-9af3-44fa-b535-6d9fb79160db",
   "metadata": {},
   "outputs": [],
   "source": [
    "#Cell 4 — Bulk import"
   ]
  },
  {
   "cell_type": "code",
   "execution_count": 6,
   "id": "b0c9b299-b2cb-461a-9ce6-d3780d4396c8",
   "metadata": {},
   "outputs": [
    {
     "name": "stderr",
     "output_type": "stream",
     "text": [
      "100%|████████████████████████████████████████████████████████████████████████████████| 697/697 [00:09<00:00, 69.87it/s]"
     ]
    },
    {
     "name": "stdout",
     "output_type": "stream",
     "text": [
      "✅ Imported all runs and date relations into Neo4j.\n"
     ]
    },
    {
     "name": "stderr",
     "output_type": "stream",
     "text": [
      "\n"
     ]
    }
   ],
   "source": [
    "with driver.session() as s:\n",
    "    for _, row in tqdm(df.iterrows(), total=len(df)):\n",
    "        s.execute_write(import_run, row)\n",
    "\n",
    "print(\"✅ Imported all runs and date relations into Neo4j.\")\n",
    "driver.close()\n"
   ]
  },
  {
   "cell_type": "code",
   "execution_count": null,
   "id": "cb73b1bf-01e1-427e-99d6-97d7f6fad363",
   "metadata": {},
   "outputs": [],
   "source": []
  }
 ],
 "metadata": {
  "kernelspec": {
   "display_name": "notebook-llm-lab",
   "language": "python",
   "name": "notebook-llm-lab"
  },
  "language_info": {
   "codemirror_mode": {
    "name": "ipython",
    "version": 3
   },
   "file_extension": ".py",
   "mimetype": "text/x-python",
   "name": "python",
   "nbconvert_exporter": "python",
   "pygments_lexer": "ipython3",
   "version": "3.13.8"
  }
 },
 "nbformat": 4,
 "nbformat_minor": 5
}
