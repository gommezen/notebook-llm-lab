{
 "cells": [
  {
   "cell_type": "code",
   "execution_count": null,
   "id": "0",
   "metadata": {
    "vscode": {
     "languageId": "plaintext"
    }
   },
   "outputs": [],
   "source": [
    "# --- Stage 3: Exploratory Run Data Analysis & Quality Visualization ---\n",
    "#This stage explores the cleaned Strava running dataset produced in Stage 2.\n",
    "#Inspecting overall structure and descriptive statistics\n",
    "#Visualizing distributions of distance, pace, and cadence\n",
    "#Checking residual missingness or anomalies\n",
    "#Validating per-run summaries before deeper modeling or clustering"
   ]
  },
  {
   "cell_type": "code",
   "execution_count": null,
   "id": "1",
   "metadata": {
    "vscode": {
     "languageId": "plaintext"
    }
   },
   "outputs": [],
   "source": [
    "# 3.0. Import libaries and load data\n",
    "\n",
    "import pandas as pd\n",
    "import numpy as np\n",
    "import matplotlib.pyplot as plt\n",
    "import seaborn as sns\n",
    "from pathlib import Path\n",
    "\n",
    "# Load data\n",
    "data_path = Path(\"../data/strava/processed/strava_runs.parquet\")\n",
    "df = pd.read_parquet(data_path)\n",
    "print(f\"✅ Loaded {len(df):,} rows × {len(df.columns)} columns\")\n"
   ]
  },
  {
   "cell_type": "code",
   "execution_count": null,
   "id": "2",
   "metadata": {},
   "outputs": [],
   "source": [
    "# --- 3.1. Basic summary ---\n",
    "display(df.head())\n",
    "display(df.info())\n",
    "display(df.describe(include='all').T)\n"
   ]
  },
  {
   "cell_type": "code",
   "execution_count": null,
   "id": "3",
   "metadata": {},
   "outputs": [],
   "source": [
    "# --- 3.2. Missingness overview ---\n",
    "missing = df.isna().mean().sort_values(ascending=False)\n",
    "display(missing)\n",
    "\n",
    "plt.figure(figsize=(10,6))\n",
    "missing.head(20).plot(kind='barh', title='Top 20 Columns by Missing %')\n",
    "plt.gca().invert_yaxis()\n",
    "plt.show()\n",
    "\n",
    "# --- 3.3. Quick visual checks ---\n",
    "sns.histplot(df[\"distance_km\"], bins=50, kde=True)\n",
    "plt.title(\"Distribution of distance_km\"); plt.show()\n",
    "\n",
    "sns.histplot(df[\"pace_min_per_km\"], bins=50, kde=True)\n",
    "plt.title(\"Distribution of pace_min_per_km\"); plt.show()"
   ]
  },
  {
   "cell_type": "code",
   "execution_count": null,
   "id": "4",
   "metadata": {
    "vscode": {
     "languageId": "plaintext"
    }
   },
   "outputs": [],
   "source": [
    "# 3.4. Group by run_id to see completeness per run\n",
    "run_summary = (\n",
    "    df.groupby(\"run_id\")\n",
    "      .agg(\n",
    "          records=('timestamp', 'count'),\n",
    "          total_distance_km=('distance_km', 'max'),\n",
    "          avg_pace=('pace_min_per_km', 'mean'),\n",
    "          cadence_mean=('cadence', 'mean'),\n",
    "          hr_mean=('heart_rate', 'mean'),\n",
    "          elevation_max=('altitude', 'max'),\n",
    "      )\n",
    "      .reset_index()\n",
    ")\n",
    "\n",
    "print(run_summary.describe())\n",
    "sns.histplot(run_summary[\"total_distance_km\"], bins=60, kde=True)\n",
    "plt.title(\"Run distance distribution\"); plt.show()\n",
    "\n",
    "sns.scatterplot(data=run_summary, x=\"total_distance_km\", y=\"avg_pace\")\n",
    "plt.title(\"Distance vs average pace\"); plt.show()\n"
   ]
  },
  {
   "cell_type": "code",
   "execution_count": null,
   "id": "5",
   "metadata": {},
   "outputs": [],
   "source": [
    "#3.5. Load existing Data Quality Manifest for reference ---\n",
    "from pathlib import Path\n",
    "import pandas as pd\n",
    "\n",
    "manifest_path = Path(\"../data/strava/processed/data_quality_manifest.csv\")\n",
    "manifest = pd.read_csv(manifest_path)\n",
    "print(f\"✅ Loaded manifest with {len(manifest)} columns from: {manifest_path}\")\n",
    "display(manifest.head(15))\n"
   ]
  },
  {
   "cell_type": "code",
   "execution_count": null,
   "id": "6",
   "metadata": {
    "vscode": {
     "languageId": "plaintext"
    }
   },
   "outputs": [],
   "source": [
    "run_summary.to_csv(\"../data/strava/processed/run_summary_stage1.csv\", index=False)\n",
    "print(\"✅ Saved per-run summary for next stages.\")\n"
   ]
  },
  {
   "cell_type": "code",
   "execution_count": null,
   "id": "7",
   "metadata": {},
   "outputs": [],
   "source": [
    "# 3.6. Step 1D – Visual Missingness Heatmap\n",
    "# ---------------------------------------------------------------------\n",
    "# Purpose:\n",
    "# The goal here is to *visually inspect patterns of missing data*.\n",
    "# While numeric completeness metrics (like the manifest) tell us how\n",
    "# many values are missing per column, a heatmap helps reveal *where*\n",
    "# those gaps occur and whether they form patterns — for instance:\n",
    "#   • Do certain sensors (e.g., heart_rate or altitude) drop out together?\n",
    "#   • Are there entire runs or time segments with missing data?\n",
    "#\n",
    "# We use the `missingno` library because it’s fast and intuitive:\n",
    "# each column is represented as a vertical stripe of completeness\n",
    "# across a random sample of rows. White bands = missing data.\n",
    "#\n",
    "# Note: We sample 5,000 rows for readability — plotting all ~600k\n",
    "# rows would be both slow and visually cluttered.\n",
    "# ---------------------------------------------------------------------\n",
    "\n",
    "import matplotlib.pyplot as plt\n",
    "\n",
    "try:\n",
    "    import missingno as msno\n",
    "    sample_df = df.sample(5000, random_state=42)\n",
    "    print(f\"📊 Visualizing missingness for a {len(sample_df):,}-row sample...\")\n",
    "    msno.matrix(sample_df)\n",
    "    plt.show()\n",
    "except ImportError:\n",
    "    print(\"⚠️ The `missingno` package is not installed — skipping missingness visualization.\")\n"
   ]
  },
  {
   "cell_type": "code",
   "execution_count": null,
   "id": "8",
   "metadata": {},
   "outputs": [],
   "source": []
  }
 ],
 "metadata": {
  "kernelspec": {
   "display_name": "notebook-llm-lab",
   "language": "python",
   "name": "notebook-llm-lab"
  },
  "language_info": {
   "codemirror_mode": {
    "name": "ipython",
    "version": 3
   },
   "file_extension": ".py",
   "mimetype": "text/x-python",
   "name": "python",
   "nbconvert_exporter": "python",
   "pygments_lexer": "ipython3",
   "version": "3.12.10"
  }
 },
 "nbformat": 4,
 "nbformat_minor": 5
}
