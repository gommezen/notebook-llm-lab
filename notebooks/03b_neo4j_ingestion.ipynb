{
 "cells": [
  {
   "cell_type": "code",
   "execution_count": null,
   "id": "0",
   "metadata": {
    "vscode": {
     "languageId": "plaintext"
    }
   },
   "outputs": [],
   "source": [
    "# -----------------------------------------------------------------------------\n",
    "# 📘 Notebook: 03B_neo4j_ingestion.ipynb\n",
    "#\n",
    "# Purpose:\n",
    "#   Import cleaned per-run summaries into a Neo4j graph for interactive\n",
    "#   exploration and quality auditing. Each run becomes a node linked to\n",
    "#   its date and metric values.\n",
    "#\n",
    "# Steps:\n",
    "#   1. Load cleaned dataset (run_summary_cleaned.parquet)\n",
    "#   2. Connect securely to Neo4j (via .env)\n",
    "#   3. Create constraints and indexes\n",
    "#   4. Import runs + date relationships\n",
    "#   5. Optionally attach metric nodes\n",
    "#   6. Validate import with diagnostic Cypher queries\n",
    "#\n",
    "# Input : ../data/strava/processed/run_summary_cleaned.parquet\n",
    "# Output: Populated Neo4j graph\n",
    "# Next  : Stage 4 – Feature Engineering & Clustering\n",
    "# -----------------------------------------------------------------------------\n"
   ]
  },
  {
   "cell_type": "code",
   "execution_count": null,
   "id": "1",
   "metadata": {},
   "outputs": [],
   "source": [
    "# 📘 03B_neo4j_ingestion.ipynb\n",
    "# Import cleaned running data into Neo4j for interactive exploration.\n",
    "\n",
    "from neo4j import GraphDatabase\n",
    "from dotenv import load_dotenv\n",
    "from pathlib import Path\n",
    "import pandas as pd\n",
    "import os\n",
    "from tqdm import tqdm\n",
    "\n",
    "# --- 1. Load environment variables and connect securely ---\n",
    "load_dotenv()\n",
    "NEO4J_URI = os.getenv(\"NEO4J_URI\")\n",
    "NEO4J_USER = os.getenv(\"NEO4J_USER\")\n",
    "NEO4J_PASS = os.getenv(\"NEO4J_PASS\")\n",
    "\n",
    "try:\n",
    "    driver = GraphDatabase.driver(NEO4J_URI, auth=(NEO4J_USER, NEO4J_PASS))\n",
    "    with driver.session() as s:\n",
    "        info = s.run(\"RETURN 1 AS ok\").single()\n",
    "        print(f\"✅ Connected to Neo4j at {NEO4J_URI}\")\n",
    "except Exception as e:\n",
    "    raise RuntimeError(f\"❌ Neo4j connection failed: {e}\")\n"
   ]
  },
  {
   "cell_type": "code",
   "execution_count": null,
   "id": "2",
   "metadata": {},
   "outputs": [],
   "source": [
    "\n",
    "# --- 2. Load cleaned running dataset -----------------------------------------\n",
    "df_path = Path(\"../data/strava/processed/run_summary_cleaned.parquet\")\n",
    "df = pd.read_parquet(df_path)\n",
    "print(f\"Loaded {len(df):,} runs for graph import\")"
   ]
  },
  {
   "cell_type": "code",
   "execution_count": null,
   "id": "3",
   "metadata": {},
   "outputs": [],
   "source": [
    "# --- 3. Ensure constraints & indexes ----------------------------------------\n",
    "with driver.session() as s:\n",
    "    s.run(\"CREATE CONSTRAINT IF NOT EXISTS FOR (r:Run) REQUIRE r.run_id IS UNIQUE\")\n",
    "    s.run(\"CREATE CONSTRAINT IF NOT EXISTS FOR (d:Date) REQUIRE d.date IS UNIQUE\")\n",
    "    s.run(\"CREATE INDEX run_metrics_idx IF NOT EXISTS FOR (r:Run) ON (r.avg_pace, r.total_distance_km)\")\n",
    "print(\"✅ Constraints and index ensured.\")\n"
   ]
  },
  {
   "cell_type": "code",
   "execution_count": null,
   "id": "4",
   "metadata": {},
   "outputs": [],
   "source": [
    "# --- 4. Define batch import function ----------------------------------------\n",
    "def import_runs_batch(tx, rows):\n",
    "    \"\"\"\n",
    "    Insert or update a batch of runs and their associated Date nodes.\n",
    "    Using UNWIND for batch import improves speed and keeps it idempotent.\n",
    "    \"\"\"\n",
    "    query = \"\"\"\n",
    "    UNWIND $rows AS row\n",
    "    MERGE (r:Run {run_id: row.run_id})\n",
    "      SET r.total_distance_km = row.total_distance_km,\n",
    "          r.avg_pace          = row.avg_pace,\n",
    "          r.avg_speed         = row.avg_speed,\n",
    "          r.avg_cadence       = row.avg_cadence,\n",
    "          r.avg_hr            = row.avg_hr,\n",
    "          r.elevation_gain    = row.elevation_gain,\n",
    "          r.duration_min      = row.duration_min,\n",
    "          r.missing_pct       = row.missing_pct\n",
    "    MERGE (d:Date {date: date(row.date)})\n",
    "    MERGE (r)-[:ON_DATE]->(d)\n",
    "    \"\"\"\n",
    "    tx.run(query, rows=rows)"
   ]
  },
  {
   "cell_type": "code",
   "execution_count": null,
   "id": "5",
   "metadata": {},
   "outputs": [],
   "source": [
    "# --- 6. Validate import -----------------------------------------------------\n",
    "with driver.session() as s:\n",
    "    stats = s.run(\"\"\"\n",
    "        MATCH (r:Run)-[:ON_DATE]->(d:Date)\n",
    "        RETURN count(r) AS runs, count(DISTINCT d) AS dates\n",
    "    \"\"\").data()[0]\n",
    "print(f\"📈 Graph now contains {stats['runs']} runs across {stats['dates']} unique dates.\")"
   ]
  },
  {
   "cell_type": "code",
   "execution_count": null,
   "id": "6",
   "metadata": {},
   "outputs": [],
   "source": [
    "\n",
    "# --- 7. Validate & close ----------------------------------------------------\n",
    "# (Run this LAST)\n",
    "\n",
    "# Quick sanity check before closing\n",
    "with driver.session() as s:\n",
    "    stats = s.run(\"\"\"\n",
    "        MATCH (r:Run)-[:ON_DATE]->(d:Date)\n",
    "        RETURN count(r) AS runs, count(DISTINCT d) AS dates\n",
    "    \"\"\").data()[0]\n",
    "print(f\"📈 Graph now contains {stats['runs']} runs across {stats['dates']} unique dates.\")\n",
    "\n",
    "# Close the driver once you're done\n",
    "try:\n",
    "    driver.close()\n",
    "    print(\"🔒 Connection closed.\")\n",
    "except Exception as e:\n",
    "    print(f\"⚠️ Skipping close (driver was already closed?): {e}\")\n"
   ]
  },
  {
   "cell_type": "code",
   "execution_count": null,
   "id": "7",
   "metadata": {},
   "outputs": [],
   "source": []
  }
 ],
 "metadata": {
  "kernelspec": {
   "display_name": "notebook-llm-lab",
   "language": "python",
   "name": "notebook-llm-lab"
  },
  "language_info": {
   "codemirror_mode": {
    "name": "ipython",
    "version": 3
   },
   "file_extension": ".py",
   "mimetype": "text/x-python",
   "name": "python",
   "nbconvert_exporter": "python",
   "pygments_lexer": "ipython3",
   "version": "3.12.10"
  }
 },
 "nbformat": 4,
 "nbformat_minor": 5
}
