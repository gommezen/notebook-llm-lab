{
 "cells": [
  {
   "cell_type": "code",
   "execution_count": null,
   "id": "08740103",
   "metadata": {
    "vscode": {
     "languageId": "plaintext"
    }
   },
   "outputs": [],
   "source": [
    "# --- Stage 2: Cleaning & Per-Run Summary ---------------------------------\n",
    "\n",
    "import pandas as pd\n",
    "import numpy as np\n",
    "from pathlib import Path\n",
    "\n",
    "raw_path = Path(\"../data/strava/processed/strava_runs.parquet\")\n",
    "df = pd.read_parquet(raw_path)\n",
    "print(f\"Loaded {len(df):,} rows\")\n",
    "\n",
    "# --- 2.1 Drop unknown or low-quality columns ------------------------------\n",
    "manifest = pd.read_csv(\"../data/strava/processed/data_quality_manifest.csv\", index_col=\"column\")\n",
    "keep_cols = manifest.query(\"category != 'drop'\").index.tolist()\n",
    "df = df[keep_cols]\n",
    "print(f\"Keeping {len(keep_cols)} columns based on manifest\")\n",
    "\n",
    "# --- 2.2 Apply activity-level filters ------------------------------------\n",
    "before = len(df)\n",
    "df = df.dropna(subset=[\"distance_km\", \"pace_min_per_km\"])\n",
    "df = df[df[\"distance_km\"] >= 0.5]\n",
    "df = df[(df[\"pace_min_per_km\"] >= 2) & (df[\"pace_min_per_km\"] <= 15)]\n",
    "df = df[~((df[\"cadence\"] == 0) & (df[\"speed\"] == 0))]\n",
    "print(f\"Removed {before - len(df):,} noisy rows\")\n",
    "\n",
    "# --- 2.3 Aggregate per-run summary ---------------------------------------\n",
    "summary = (\n",
    "    df.groupby(\"run_id\")\n",
    "      .agg(\n",
    "          records=(\"timestamp\", \"count\"),\n",
    "          start_time=(\"timestamp\", \"min\"),\n",
    "          end_time=(\"timestamp\", \"max\"),\n",
    "          total_distance_km=(\"distance_km\", \"max\"),\n",
    "          avg_pace=(\"pace_min_per_km\", \"mean\"),\n",
    "          avg_speed=(\"speed\", \"mean\"),\n",
    "          avg_cadence=(\"cadence\", \"mean\"),\n",
    "          avg_hr=(\"heart_rate\", \"mean\"),\n",
    "          elevation_gain=(\"altitude\", lambda s: s.max() - s.min()),\n",
    "      )\n",
    "      .reset_index()\n",
    ")\n",
    "\n",
    "# --- 2.4 Add date context -------------------------------------------------\n",
    "summary[\"date\"] = pd.to_datetime(summary[\"start_time\"]).dt.date\n",
    "summary[\"weekday\"] = pd.to_datetime(summary[\"start_time\"]).dt.day_name()\n",
    "summary[\"month\"] = pd.to_datetime(summary[\"start_time\"]).dt.to_period(\"M\")\n",
    "\n",
    "# --- 2.5 Run-level quality metrics ---------------------------------------\n",
    "summary[\"missing_pct\"] = 100 * (df.isna().sum().sum() / (len(df) * len(df.columns)))\n",
    "\n",
    "summary[\"duration_min\"] = (\n",
    "    (pd.to_datetime(summary[\"end_time\"]) - pd.to_datetime(summary[\"start_time\"]))\n",
    "    .dt.total_seconds() / 60\n",
    ")\n",
    "\n",
    "# --- 2.6 Save results -----------------------------------------------------\n",
    "out_path = Path(\"../data/strava/processed/run_summary_cleaned.parquet\")\n",
    "summary.to_parquet(out_path, index=False)\n",
    "summary.to_csv(out_path.with_suffix(\".csv\"), index=False)\n",
    "print(f\"✅ Saved {len(summary):,} clean runs → {out_path}\")\n",
    "\n",
    "summary.head()\n"
   ]
  }
 ],
 "metadata": {
  "language_info": {
   "name": "python"
  }
 },
 "nbformat": 4,
 "nbformat_minor": 5
}
