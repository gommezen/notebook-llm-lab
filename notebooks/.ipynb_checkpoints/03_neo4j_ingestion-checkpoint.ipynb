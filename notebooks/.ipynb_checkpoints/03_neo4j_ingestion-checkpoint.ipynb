{
 "cells": [
  {
   "cell_type": "code",
   "execution_count": null,
   "id": "04cd4366",
   "metadata": {
    "vscode": {
     "languageId": "plaintext"
    }
   },
   "outputs": [],
   "source": [
    "# -----------------------------------------------------------------------------\n",
    "# 📘 Notebook: 03_neo4j_ingestion.ipynb\n",
    "#\n",
    "# Purpose:\n",
    "#   Import cleaned per-run summaries into a Neo4j graph for interactive\n",
    "#   exploration and quality auditing. Each run becomes a node linked to\n",
    "#   its date and metric values.\n",
    "#\n",
    "# Steps:\n",
    "#   1. Load cleaned dataset (run_summary_cleaned.parquet)\n",
    "#   2. Connect securely to Neo4j (via .env)\n",
    "#   3. Create constraints and indexes\n",
    "#   4. Import runs + date relationships\n",
    "#   5. Optionally attach metric nodes\n",
    "#   6. Validate import with diagnostic Cypher queries\n",
    "#\n",
    "# Input : ../data/strava/processed/run_summary_cleaned.parquet\n",
    "# Output: Populated Neo4j graph\n",
    "# Next  : Stage 4 – Feature Engineering & Clustering\n",
    "# -----------------------------------------------------------------------------\n"
   ]
  },
  {
   "cell_type": "code",
   "execution_count": null,
   "id": "08f498c5-f76c-4875-a043-c114914a0f67",
   "metadata": {},
   "outputs": [],
   "source": [
    "# 📘 03_neo4j_ingestion.ipynb\n",
    "# Import cleaned running data into Neo4j for interactive exploration.\n",
    "\n",
    "from neo4j import GraphDatabase\n",
    "from dotenv import load_dotenv\n",
    "from pathlib import Path\n",
    "import pandas as pd\n",
    "import os\n",
    "from tqdm import tqdm\n",
    "\n",
    "load_dotenv()\n",
    "NEO4J_URI = os.getenv(\"NEO4J_URI\")\n",
    "NEO4J_USER = os.getenv(\"NEO4J_USER\")\n",
    "NEO4J_PASS = os.getenv(\"NEO4J_PASS\")\n",
    "\n",
    "driver = GraphDatabase.driver(NEO4J_URI, auth=(NEO4J_USER, NEO4J_PASS))\n"
   ]
  },
  {
   "cell_type": "code",
   "execution_count": null,
   "id": "e608f8bf-208f-4a16-a2c3-15afebd42de4",
   "metadata": {},
   "outputs": [],
   "source": []
  },
  {
   "cell_type": "code",
   "execution_count": null,
   "id": "de7810dc-f619-453e-b0fc-e75e9803eeb9",
   "metadata": {},
   "outputs": [],
   "source": []
  },
  {
   "cell_type": "code",
   "execution_count": null,
   "id": "b0c9b299-b2cb-461a-9ce6-d3780d4396c8",
   "metadata": {},
   "outputs": [],
   "source": []
  },
  {
   "cell_type": "code",
   "execution_count": null,
   "id": "cb73b1bf-01e1-427e-99d6-97d7f6fad363",
   "metadata": {},
   "outputs": [],
   "source": []
  }
 ],
 "metadata": {
  "kernelspec": {
   "display_name": "notebook-llm-lab",
   "language": "python",
   "name": "notebook-llm-lab"
  },
  "language_info": {
   "codemirror_mode": {
    "name": "ipython",
    "version": 3
   },
   "file_extension": ".py",
   "mimetype": "text/x-python",
   "name": "python",
   "nbconvert_exporter": "python",
   "pygments_lexer": "ipython3",
   "version": "3.13.8"
  }
 },
 "nbformat": 4,
 "nbformat_minor": 5
}
