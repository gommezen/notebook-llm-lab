{
 "cells": [
  {
   "cell_type": "code",
   "execution_count": null,
   "id": "a17c772e",
   "metadata": {
    "vscode": {
     "languageId": "plaintext"
    }
   },
   "outputs": [],
   "source": [
    "1. Load Exploration Dataset\n",
    "\n",
    "import pandas as pd\n",
    "df = pd.read_parquet(\"data/strava/exploration_stage.parquet\")"
   ]
  },
  {
   "cell_type": "code",
   "execution_count": null,
   "id": "86ef4a1a",
   "metadata": {
    "vscode": {
     "languageId": "plaintext"
    }
   },
   "outputs": [],
   "source": [
    "2. Derived Features\n",
    "Examples (all safe to compute now):\n",
    "\n",
    "df[\"pace_variability\"] = df[\"avg_pace\"].rolling(5, min_periods=1).std()\n",
    "df[\"fatigue_index\"] = (df[\"avg_pace\"] * df[\"elevation_gain\"]) / df[\"avg_cadence\"]\n",
    "df[\"elev_ratio\"] = df[\"elevation_gain\"] / df[\"total_distance_km\"]\n",
    "df[\"weekday\"] = pd.to_datetime(df[\"date\"]).dt.day_name()"
   ]
  },
  {
   "cell_type": "markdown",
   "id": "9bc92686",
   "metadata": {},
   "source": [
    "weekly = df.groupby(df[\"date\"].dt.isocalendar().week).agg(\n",
    "    weekly_distance=(\"total_distance_km\",\"sum\"),\n",
    "    avg_pace=(\"avg_pace\",\"mean\"),\n",
    "    fatigue_index=(\"fatigue_index\",\"mean\")\n",
    ")\n"
   ]
  },
  {
   "cell_type": "code",
   "execution_count": null,
   "id": "dd3a06bf",
   "metadata": {
    "vscode": {
     "languageId": "plaintext"
    }
   },
   "outputs": [],
   "source": [
    "Normalization / Scaling\n",
    "\n",
    "from sklearn.preprocessing import StandardScaler\n",
    "scaler = StandardScaler()\n",
    "scaled_cols = [\"avg_pace\",\"avg_cadence\",\"elevation_gain\",\"fatigue_index\"]\n",
    "df_scaled = df.copy()\n",
    "df_scaled[scaled_cols] = scaler.fit_transform(df_scaled[scaled_cols])"
   ]
  },
  {
   "cell_type": "code",
   "execution_count": null,
   "id": "aedb0ec1",
   "metadata": {
    "vscode": {
     "languageId": "plaintext"
    }
   },
   "outputs": [],
   "source": [
    "4. Correlation & Sanity Plots\n",
    "Use seaborn or matplotlib:\n",
    "\n",
    "import seaborn as sns, matplotlib.pyplot as plt\n",
    "sns.heatmap(df_scaled[scaled_cols].corr(), annot=True)\n",
    "plt.show()"
   ]
  },
  {
   "cell_type": "code",
   "execution_count": null,
   "id": "59a67313",
   "metadata": {
    "vscode": {
     "languageId": "plaintext"
    }
   },
   "outputs": [],
   "source": [
    "5. Dimensionality Preview (Optional)\n",
    "\n",
    "from sklearn.decomposition import PCA\n",
    "pca = PCA(n_components=2)\n",
    "proj = pca.fit_transform(df_scaled[scaled_cols])\n",
    "plt.scatter(proj[:,0], proj[:,1], c=df_scaled[\"avg_pace\"], cmap=\"viridis\")"
   ]
  },
  {
   "cell_type": "code",
   "execution_count": null,
   "id": "b747dde1",
   "metadata": {
    "vscode": {
     "languageId": "plaintext"
    }
   },
   "outputs": [],
   "source": [
    "6. Export\n",
    "\n",
    "df_scaled.to_parquet(\"data/strava/runs_features.parquet\", index=False)\n",
    "print(\"✅ ML-ready feature dataset saved.\")"
   ]
  },
  {
   "cell_type": "code",
   "execution_count": null,
   "id": "992aaa3a",
   "metadata": {
    "vscode": {
     "languageId": "plaintext"
    }
   },
   "outputs": [],
   "source": []
  },
  {
   "cell_type": "code",
   "execution_count": null,
   "id": "63f4d73e",
   "metadata": {
    "vscode": {
     "languageId": "plaintext"
    }
   },
   "outputs": [],
   "source": []
  },
  {
   "cell_type": "code",
   "execution_count": null,
   "id": "caaa7181",
   "metadata": {
    "vscode": {
     "languageId": "plaintext"
    }
   },
   "outputs": [],
   "source": []
  },
  {
   "cell_type": "code",
   "execution_count": null,
   "id": "da41f3f4",
   "metadata": {
    "vscode": {
     "languageId": "plaintext"
    }
   },
   "outputs": [],
   "source": []
  }
 ],
 "metadata": {
  "language_info": {
   "name": "python"
  }
 },
 "nbformat": 4,
 "nbformat_minor": 5
}
