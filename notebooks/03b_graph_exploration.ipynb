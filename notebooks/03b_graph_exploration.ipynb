{
 "cells": [
  {
   "cell_type": "code",
   "execution_count": null,
   "id": "0",
   "metadata": {},
   "outputs": [],
   "source": [
    "## Stage 3b — Graph Exploration & Outlier Detection\n",
    "\n",
    "\"\"\"\n",
    "Stage 3b — Graph Exploration & Outlier Detection\n",
    "\n",
    "Connects to the RunningAnalytics Neo4j graph and queries all run data for exploratory analysis.\n",
    "Visualizes pace, cadence, distance, and elevation distributions to reveal patterns and detect anomalies.\n",
    "Highlights potential outliers (e.g., pace <3 or >8 min/km, distance >25 km) and identifies run types such\n",
    "as long runs, recovery sessions, and inconsistent recordings.\n",
    "\n",
    "The goal is to validate and enrich the dataset prior to machine learning. \n",
    "The cleaned and annotated output from this stage serves as input to Stage 4 (Feature Engineering & ML Prep).\n",
    "\"\"\"\n"
   ]
  },
  {
   "cell_type": "code",
   "execution_count": null,
   "id": "1",
   "metadata": {
    "vscode": {
     "languageId": "plaintext"
    }
   },
   "outputs": [],
   "source": [
    "# --- 2. Load all runs into a DataFrame ---\n",
    "with driver.session() as session:\n",
    "    query = \"\"\"\n",
    "    MATCH (r:Run)-[:ON_DATE]->(d:Date)\n",
    "    RETURN \n",
    "        r.run_id AS run_id,\n",
    "        r.total_distance_km AS km,\n",
    "        r.avg_pace AS pace,\n",
    "        r.avg_speed AS speed,\n",
    "        r.avg_cadence AS cadence,\n",
    "        r.elevation_gain AS elev,\n",
    "        r.duration_min AS duration,\n",
    "        d.date AS date\n",
    "    ORDER BY d.date\n",
    "    \"\"\"\n",
    "    df = pd.DataFrame(session.run(query).data())\n",
    "\n",
    "driver.close()\n",
    "\n",
    "print(f\"✅ Loaded {len(df):,} runs from Neo4j\")\n",
    "df.head()\n",
    "\n",
    "\n"
   ]
  },
  {
   "cell_type": "code",
   "execution_count": null,
   "id": "2",
   "metadata": {},
   "outputs": [],
   "source": [
    "# --- 1. Imports and Setup ---\n",
    "from neo4j import GraphDatabase\n",
    "from dotenv import load_dotenv\n",
    "import pandas as pd\n",
    "import matplotlib.pyplot as plt\n",
    "import seaborn as sns\n",
    "import os\n",
    "\n",
    "load_dotenv()\n",
    "\n",
    "driver = GraphDatabase.driver(\n",
    "    os.getenv(\"NEO4J_URI\"),\n",
    "    auth=(os.getenv(\"NEO4J_USER\"), os.getenv(\"NEO4J_PASS\"))\n",
    ")"
   ]
  },
  {
   "cell_type": "code",
   "execution_count": null,
   "id": "3",
   "metadata": {},
   "outputs": [],
   "source": [
    "# --- 3. Basic distributions ---\n",
    "fig, axes = plt.subplots(1, 3, figsize=(15, 4))\n",
    "sns.histplot(df[\"km\"], bins=30, ax=axes[0], color=\"steelblue\")\n",
    "axes[0].set_title(\"Distance distribution (km)\")\n",
    "sns.histplot(df[\"pace\"], bins=30, ax=axes[1], color=\"tomato\")\n",
    "axes[1].set_title(\"Pace distribution (min/km)\")\n",
    "sns.histplot(df[\"cadence\"], bins=30, ax=axes[2], color=\"green\")\n",
    "axes[2].set_title(\"Cadence distribution (spm)\")\n",
    "plt.tight_layout()\n",
    "\n",
    "\n"
   ]
  },
  {
   "cell_type": "code",
   "execution_count": null,
   "id": "4",
   "metadata": {},
   "outputs": [],
   "source": [
    "# --- 4. Detect anomalies ---\n",
    "# Define thresholds for \"normal\" runs\n",
    "pace_outliers = df[(df[\"pace\"] > 8) | (df[\"pace\"] < 3)]\n",
    "distance_outliers = df[df[\"km\"] > 25]\n",
    "print(f\"Pace outliers: {len(pace_outliers)}  |  Long runs (>25 km): {len(distance_outliers)}\")\n",
    "\n",
    "\n",
    "\n",
    "\n"
   ]
  },
  {
   "cell_type": "code",
   "execution_count": null,
   "id": "5",
   "metadata": {},
   "outputs": [],
   "source": [
    "# --- 5. Visualize pace vs. distance ---\n",
    "plt.figure(figsize=(8,6))\n",
    "sns.scatterplot(data=df, x=\"km\", y=\"pace\", hue=\"pace\",\n",
    "                palette=\"coolwarm\", size=\"pace\", sizes=(20,200))\n",
    "plt.title(\"Pace vs Distance (outliers highlighted)\")\n",
    "plt.xlabel(\"Distance (km)\")\n",
    "plt.ylabel(\"Pace (min/km)\")\n",
    "plt.show()"
   ]
  },
  {
   "cell_type": "code",
   "execution_count": null,
   "id": "6",
   "metadata": {},
   "outputs": [],
   "source": [
    "# --- 6. Summary of weekly averages ---\n",
    "# Convert Neo4j date objects → ISO strings → pandas datetime\n",
    "df[\"date\"] = df[\"date\"].apply(lambda d: str(d))  # or d.to_native() if supported\n",
    "df[\"date\"] = pd.to_datetime(df[\"date\"], errors=\"coerce\")\n",
    "df[\"week\"] = df[\"date\"].dt.to_period(\"W\").astype(str)\n",
    "\n",
    "weekly = (\n",
    "    df.groupby(\"week\")\n",
    "      .agg({\"km\":\"sum\", \"pace\":\"mean\", \"cadence\":\"mean\"})\n",
    "      .reset_index()\n",
    "      .sort_values(\"week\")\n",
    ")\n",
    "\n",
    "plt.figure(figsize=(12,4))\n",
    "sns.lineplot(data=weekly, x=\"week\", y=\"km\", marker=\"o\")\n",
    "plt.title(\"Weekly total distance (km)\")\n",
    "plt.xticks(rotation=45)\n",
    "plt.show()"
   ]
  },
  {
   "cell_type": "code",
   "execution_count": null,
   "id": "7",
   "metadata": {
    "vscode": {
     "languageId": "plaintext"
    }
   },
   "outputs": [],
   "source": [
    "# --- 7. Export results for next phase ---\n",
    "df.to_csv(\"../data/strava/processed/neo4j_exploration.csv\", index=False)\n",
    "print(\"✅ Saved exploration dataset for Stage 4 (ML prep).\")"
   ]
  },
  {
   "cell_type": "code",
   "execution_count": null,
   "id": "8",
   "metadata": {},
   "outputs": [],
   "source": []
  }
 ],
 "metadata": {
  "kernelspec": {
   "display_name": "notebook-llm-lab",
   "language": "python",
   "name": "notebook-llm-lab"
  },
  "language_info": {
   "codemirror_mode": {
    "name": "ipython",
    "version": 3
   },
   "file_extension": ".py",
   "mimetype": "text/x-python",
   "name": "python",
   "nbconvert_exporter": "python",
   "pygments_lexer": "ipython3",
   "version": "3.13.8"
  }
 },
 "nbformat": 4,
 "nbformat_minor": 5
}
